{
 "cells": [
  {
   "cell_type": "code",
   "execution_count": 6,
   "id": "1222478f-4e67-4c91-8072-71676a332d3c",
   "metadata": {
    "scrolled": true
   },
   "outputs": [
    {
     "name": "stdout",
     "output_type": "stream",
     "text": [
      "Requirement already satisfied: mysql-connector-python in c:\\users\\pdeur\\appdata\\local\\programs\\python\\python313\\lib\\site-packages (9.2.0)\n",
      "Note: you may need to restart the kernel to use updated packages.\n",
      "('booking',)\n",
      "('booking_order_total',)\n",
      "('cuisine',)\n",
      "('customer',)\n",
      "('employee',)\n",
      "('employeerole',)\n",
      "('menu',)\n",
      "('menu_items_with_order_qty_above_2',)\n",
      "('menutype',)\n",
      "('order',)\n",
      "('order_view',)\n",
      "('orderstatus',)\n"
     ]
    }
   ],
   "source": [
    "%pip install mysql-connector-python\n",
    "import mysql.connector as connector\n",
    "\n",
    "# Establish the connection and create cursor\n",
    "connection = connector.connect(user=\"root\", password=\"48ukASV6cjdCK701wvZR\", database=\"littlelemondb\")\n",
    "cursor = connection.cursor()\n",
    "\n",
    "cursor.execute(\"USE littlelemondb\")\n",
    "\n",
    "# create query and fetch results\n",
    "show_tables_query = \"SHOW tables\"\n",
    "cursor.execute(show_tables_query)\n",
    "results = cursor.fetchall()\n",
    "\n",
    "# print results\n",
    "print(results)\n",
    "\n",
    "# Close the cursor and connection\n",
    "cursor.close()\n",
    "connection.close()\n"
   ]
  },
  {
   "cell_type": "code",
   "execution_count": 8,
   "id": "5fbf3c84-5e3d-4210-a3eb-8f102490a0cf",
   "metadata": {},
   "outputs": [
    {
     "name": "stdout",
     "output_type": "stream",
     "text": [
      "Name: Bob Simmons Contact Details: 12345 , bob@bmail.com Total Cost: 168.00\n",
      "Name: Bob Simmons Contact Details: 12345 , bob@bmail.com Total Cost: 168.00\n",
      "Name: Steve Jengkins Contact Details: 12345 , steve@bmail.com Total Cost: 168.00\n",
      "Name: Roy brenneman Contact Details: 12345 , roy@bmail.com Total Cost: 168.00\n"
     ]
    }
   ],
   "source": [
    "import mysql.connector as connector\n",
    "\n",
    "# Establish the connection and create cursor\n",
    "connection = connector.connect(user=\"root\", password=\"48ukASV6cjdCK701wvZR\", database=\"littlelemondb\")\n",
    "cursor = connection.cursor()\n",
    "\n",
    "cursor.execute(\"USE littlelemondb\")\n",
    "\n",
    "# create query and fetch results\n",
    "query = \"\"\"\n",
    "SELECT C.Name as CustomerName, C.TelephoneNr, C.Email, O.OrderTotal\n",
    "FROM customer as C INNER JOIN booking_order_total as O ON C.CustomerId = O.CustomerId\n",
    "WHERE O.OrderTotal > 60;\n",
    "\"\"\"\n",
    "cursor.execute(query)\n",
    "results = cursor.fetchall()\n",
    "\n",
    "# Print the results\n",
    "for result in results:\n",
    "    print(\"Name:\", result[0], \", Contact Details:\", result[1], \",\", result[2], \", Total Cost:\", result[3])\n",
    "\n",
    "# Close the cursor and connection\n",
    "cursor.close()\n",
    "connection.close()\n"
   ]
  },
  {
   "cell_type": "code",
   "execution_count": null,
   "id": "90b57c39-4487-49c5-97ca-9495344c1127",
   "metadata": {},
   "outputs": [],
   "source": []
  }
 ],
 "metadata": {
  "kernelspec": {
   "display_name": "Python 3 (ipykernel)",
   "language": "python",
   "name": "python3"
  },
  "language_info": {
   "codemirror_mode": {
    "name": "ipython",
    "version": 3
   },
   "file_extension": ".py",
   "mimetype": "text/x-python",
   "name": "python",
   "nbconvert_exporter": "python",
   "pygments_lexer": "ipython3",
   "version": "3.13.2"
  }
 },
 "nbformat": 4,
 "nbformat_minor": 5
}
